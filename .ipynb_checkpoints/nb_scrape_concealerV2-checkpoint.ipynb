{
 "cells": [
  {
   "cell_type": "code",
   "execution_count": 1,
   "metadata": {},
   "outputs": [],
   "source": [
    "from selenium import webdriver\n",
    "import pause\n",
    "from bs4 import BeautifulSoup"
   ]
  },
  {
   "cell_type": "code",
   "execution_count": 2,
   "metadata": {},
   "outputs": [],
   "source": [
    "from selenium.webdriver.common.by import By\n",
    "from selenium.webdriver.support.ui import WebDriverWait\n",
    "from selenium.webdriver.support import expected_conditions as EC\n",
    "from selenium.common.exceptions import TimeoutException"
   ]
  },
  {
   "cell_type": "code",
   "execution_count": 67,
   "metadata": {},
   "outputs": [
    {
     "name": "stdout",
     "output_type": "stream",
     "text": [
      "fetching https://www.sephora.com/ca/en/shop/concealer?pageSize=300 from the internet\n"
     ]
    }
   ],
   "source": [
    "from selenium.webdriver.support.ui import Select\n",
    "options = webdriver.ChromeOptions()\n",
    "#options.add_argument(\"--ignore-certificate-errors\")\n",
    "options.add_argument(\"--incognito\")\n",
    "#options.add_argument(\"--kiosk\")\n",
    "\n",
    "driver = webdriver.Chrome(options=options, executable_path=r'/Users/jbaripatti/Development/chromedriver')\n",
    "\n",
    "PAGE = 'https://www.sephora.com/ca/en/shop/concealer?pageSize=300'\n",
    "\n",
    "driver.get(PAGE)\n",
    "pause.seconds(2)\n",
    "\n",
    "#close pop-up\n",
    "icon_cross_ele = driver.find_element_by_css_selector('svg.css-1bpyffv').click()\n",
    "pause.seconds(2)\n",
    "\n",
    "for n in range(10):\n",
    "    init = 500 * n\n",
    "    end = 500 * (n+1)\n",
    "    driver.execute_script(\"window.scrollTo({0}, {1})\".format(str(init), str(end)))\n",
    "    pause.seconds(5)\n",
    "\n",
    "page_source = driver.page_source\n",
    "print(f\"fetching {PAGE} from the internet\")\n",
    "\n",
    "soup = BeautifulSoup(page_source, 'html.parser')\n",
    "driver.close()\n",
    "driver.quit()"
   ]
  },
  {
   "cell_type": "code",
   "execution_count": null,
   "metadata": {},
   "outputs": [],
   "source": []
  },
  {
   "cell_type": "code",
   "execution_count": null,
   "metadata": {},
   "outputs": [],
   "source": []
  },
  {
   "cell_type": "code",
   "execution_count": 68,
   "metadata": {},
   "outputs": [
    {
     "data": {
      "text/plain": [
       "bs4.element.ResultSet"
      ]
     },
     "execution_count": 68,
     "metadata": {},
     "output_type": "execute_result"
    }
   ],
   "source": [
    "# get all brands on the page, it results in a <class 'bs4.element.ResultSet'> iterable\n",
    "brands = soup.find_all(attrs= {\"data-at\" : \"sku_item_brand\"})\n",
    "type(brands)"
   ]
  },
  {
   "cell_type": "code",
   "execution_count": 69,
   "metadata": {},
   "outputs": [
    {
     "name": "stdout",
     "output_type": "stream",
     "text": [
      "NARS\n",
      "FENTY BEAUTY by Rihanna\n",
      "Too Faced\n",
      "FENTY BEAUTY by Rihanna\n",
      "tarte\n",
      "FENTY BEAUTY by Rihanna\n",
      "NARS\n",
      "IT Cosmetics\n",
      "MAKE UP FOR EVER\n",
      "Yves Saint Laurent\n",
      "Urban Decay\n",
      "BECCA\n",
      "Laura Mercier\n",
      "Kat Von D\n",
      "Charlotte Tilbury\n",
      "rms beauty\n",
      "HUDA BEAUTY\n",
      "tarte\n",
      "SEPHORA COLLECTION\n",
      "Bobbi Brown\n",
      "Yves Saint Laurent\n",
      "MAKE UP FOR EVER\n",
      "COVER FX\n",
      "Giorgio Armani Beauty\n",
      "IT Cosmetics\n",
      "Benefit Cosmetics\n",
      "KEVYN AUCOIN\n",
      "CLINIQUE\n",
      "tarte\n",
      "bareMinerals\n",
      "tarte\n",
      "Jouer Cosmetics\n",
      "bareMinerals\n",
      "Laura Mercier\n",
      "MILK MAKEUP\n",
      "First Aid Beauty\n",
      "Too Faced\n",
      "tarte\n",
      "Estée Lauder\n",
      "Bobbi Brown\n",
      "Smashbox\n",
      "Benefit Cosmetics\n",
      "Dior\n",
      "SEPHORA COLLECTION\n",
      "Josie Maran\n",
      "Laura Mercier\n",
      "Yves Saint Laurent\n",
      "CLINIQUE\n",
      "Lancôme\n",
      "CLINIQUE\n",
      "SEPHORA COLLECTION\n",
      "stila\n",
      "Urban Decay\n",
      "Bobbi Brown\n",
      "Marc Jacobs Beauty\n",
      "Bobbi Brown\n",
      "BECCA\n",
      "First Aid Beauty\n",
      "SEPHORA COLLECTION\n",
      "Marc Jacobs Beauty\n",
      "CLINIQUE\n",
      "Anastasia Beverly Hills\n",
      "Wander Beauty\n",
      "TOM FORD\n",
      "ILIA\n",
      "NUDESTIX\n",
      "IT Cosmetics\n",
      "CLINIQUE\n",
      "BECCA\n",
      "Kaja\n",
      "Hourglass\n",
      "Giorgio Armani Beauty\n"
     ]
    }
   ],
   "source": [
    "for brand in brands:\n",
    "    brand_name = brand.get_text()\n",
    "    print(brand_name)"
   ]
  },
  {
   "cell_type": "code",
   "execution_count": 70,
   "metadata": {},
   "outputs": [
    {
     "data": {
      "text/plain": [
       "11"
      ]
     },
     "execution_count": 70,
     "metadata": {},
     "output_type": "execute_result"
    }
   ],
   "source": [
    "item_grid = soup.find_all('div', class_= \"css-dkxsdo\")\n",
    "grids = []\n",
    "for grid in item_grid:\n",
    "    \n",
    "    grids.append(grid)\n",
    "len(grids)"
   ]
  },
  {
   "cell_type": "code",
   "execution_count": 71,
   "metadata": {},
   "outputs": [],
   "source": [
    "item_block = soup.find_all('div', class_=\"css-12egk0t\")\n",
    "rows = []\n",
    "for item in item_block:\n",
    "    rows.append(item)"
   ]
  },
  {
   "cell_type": "code",
   "execution_count": 72,
   "metadata": {},
   "outputs": [
    {
     "data": {
      "text/plain": [
       "128"
      ]
     },
     "execution_count": 72,
     "metadata": {},
     "output_type": "execute_result"
    }
   ],
   "source": [
    "len(rows)"
   ]
  },
  {
   "cell_type": "code",
   "execution_count": 73,
   "metadata": {},
   "outputs": [
    {
     "name": "stdout",
     "output_type": "stream",
     "text": [
      "NARS\n",
      "FENTY BEAUTY by Rihanna\n",
      "Too Faced\n",
      "FENTY BEAUTY by Rihanna\n",
      "tarte\n",
      "FENTY BEAUTY by Rihanna\n",
      "NARS\n",
      "IT Cosmetics\n",
      "MAKE UP FOR EVER\n",
      "Yves Saint Laurent\n",
      "Urban Decay\n",
      "BECCA\n",
      "Laura Mercier\n",
      "Kat Von D\n",
      "Charlotte Tilbury\n",
      "rms beauty\n",
      "HUDA BEAUTY\n",
      "tarte\n",
      "SEPHORA COLLECTION\n",
      "Bobbi Brown\n",
      "Yves Saint Laurent\n",
      "MAKE UP FOR EVER\n",
      "COVER FX\n",
      "Giorgio Armani Beauty\n",
      "IT Cosmetics\n",
      "Benefit Cosmetics\n",
      "KEVYN AUCOIN\n",
      "CLINIQUE\n",
      "tarte\n",
      "bareMinerals\n",
      "tarte\n",
      "Jouer Cosmetics\n",
      "bareMinerals\n",
      "Laura Mercier\n",
      "MILK MAKEUP\n",
      "First Aid Beauty\n",
      "Too Faced\n",
      "tarte\n",
      "Estée Lauder\n",
      "Bobbi Brown\n",
      "Smashbox\n",
      "Benefit Cosmetics\n",
      "Dior\n",
      "SEPHORA COLLECTION\n",
      "Josie Maran\n",
      "Laura Mercier\n",
      "Yves Saint Laurent\n",
      "CLINIQUE\n",
      "Lancôme\n",
      "CLINIQUE\n",
      "SEPHORA COLLECTION\n",
      "stila\n",
      "Urban Decay\n",
      "Bobbi Brown\n",
      "Marc Jacobs Beauty\n",
      "Bobbi Brown\n",
      "BECCA\n",
      "First Aid Beauty\n",
      "SEPHORA COLLECTION\n",
      "Marc Jacobs Beauty\n",
      "CLINIQUE\n",
      "Anastasia Beverly Hills\n",
      "Wander Beauty\n",
      "TOM FORD\n",
      "ILIA\n",
      "NUDESTIX\n",
      "IT Cosmetics\n",
      "CLINIQUE\n",
      "BECCA\n",
      "Kaja\n",
      "Hourglass\n",
      "Giorgio Armani Beauty\n"
     ]
    },
    {
     "ename": "AttributeError",
     "evalue": "'NoneType' object has no attribute 'text'",
     "output_type": "error",
     "traceback": [
      "\u001b[0;31m---------------------------------------------------------------------------\u001b[0m",
      "\u001b[0;31mAttributeError\u001b[0m                            Traceback (most recent call last)",
      "\u001b[0;32m<ipython-input-73-f32e7cc35298>\u001b[0m in \u001b[0;36m<module>\u001b[0;34m\u001b[0m\n\u001b[1;32m      2\u001b[0m \u001b[0mitem_block\u001b[0m \u001b[0;34m=\u001b[0m \u001b[0msoup\u001b[0m\u001b[0;34m.\u001b[0m\u001b[0mfind_all\u001b[0m\u001b[0;34m(\u001b[0m\u001b[0;34m'div'\u001b[0m\u001b[0;34m,\u001b[0m \u001b[0mclass_\u001b[0m\u001b[0;34m=\u001b[0m\u001b[0;34m\"css-12egk0t\"\u001b[0m\u001b[0;34m)\u001b[0m\u001b[0;34m\u001b[0m\u001b[0;34m\u001b[0m\u001b[0m\n\u001b[1;32m      3\u001b[0m \u001b[0;32mfor\u001b[0m \u001b[0mitem\u001b[0m \u001b[0;32min\u001b[0m \u001b[0mitem_block\u001b[0m\u001b[0;34m:\u001b[0m\u001b[0;34m\u001b[0m\u001b[0;34m\u001b[0m\u001b[0m\n\u001b[0;32m----> 4\u001b[0;31m     \u001b[0mprint\u001b[0m\u001b[0;34m(\u001b[0m\u001b[0mitem\u001b[0m\u001b[0;34m.\u001b[0m\u001b[0mfind\u001b[0m\u001b[0;34m(\u001b[0m\u001b[0mattrs\u001b[0m\u001b[0;34m=\u001b[0m\u001b[0;34m{\u001b[0m\u001b[0;34m'data-at'\u001b[0m\u001b[0;34m:\u001b[0m\u001b[0;34m'sku_item_brand'\u001b[0m\u001b[0;34m}\u001b[0m\u001b[0;34m)\u001b[0m\u001b[0;34m.\u001b[0m\u001b[0mtext\u001b[0m\u001b[0;34m)\u001b[0m\u001b[0;34m\u001b[0m\u001b[0;34m\u001b[0m\u001b[0m\n\u001b[0m",
      "\u001b[0;31mAttributeError\u001b[0m: 'NoneType' object has no attribute 'text'"
     ]
    }
   ],
   "source": [
    "# pasa algo despues del item 12\n",
    "item_block = soup.find_all('div', class_=\"css-12egk0t\")\n",
    "for item in item_block:\n",
    "    print(item.find(attrs={'data-at':'sku_item_brand'}).text)"
   ]
  },
  {
   "cell_type": "code",
   "execution_count": null,
   "metadata": {},
   "outputs": [],
   "source": []
  },
  {
   "cell_type": "code",
   "execution_count": null,
   "metadata": {},
   "outputs": [],
   "source": []
  },
  {
   "cell_type": "code",
   "execution_count": 74,
   "metadata": {},
   "outputs": [],
   "source": [
    "item = soup.find('div', class_=\"css-12egk0t\")"
   ]
  },
  {
   "cell_type": "code",
   "execution_count": 75,
   "metadata": {},
   "outputs": [
    {
     "data": {
      "text/plain": [
       "'NARS'"
      ]
     },
     "execution_count": 75,
     "metadata": {},
     "output_type": "execute_result"
    }
   ],
   "source": [
    "brand = item.find(attrs={'data-at':'sku_item_brand'}).text\n",
    "brand"
   ]
  },
  {
   "cell_type": "code",
   "execution_count": 62,
   "metadata": {},
   "outputs": [
    {
     "data": {
      "text/plain": [
       "'Radiant Creamy Concealer'"
      ]
     },
     "execution_count": 62,
     "metadata": {},
     "output_type": "execute_result"
    }
   ],
   "source": [
    "item_name = item.find(attrs={'data-at': 'sku_item_name'}).text\n",
    "item_name"
   ]
  },
  {
   "cell_type": "code",
   "execution_count": 29,
   "metadata": {},
   "outputs": [
    {
     "data": {
      "text/plain": [
       "'C$18.00 - C$37.00'"
      ]
     },
     "execution_count": 29,
     "metadata": {},
     "output_type": "execute_result"
    }
   ],
   "source": [
    "item_price = item.find(attrs={'data-at': \"sku_item_price_list\" }).text\n",
    "item_price"
   ]
  },
  {
   "cell_type": "code",
   "execution_count": 30,
   "metadata": {},
   "outputs": [
    {
     "data": {
      "text/plain": [
       "'58 more colors'"
      ]
     },
     "execution_count": 30,
     "metadata": {},
     "output_type": "execute_result"
    }
   ],
   "source": [
    "item_shades = item.find('div', class_=\"css-rrjz1n\").text\n",
    "item_shades"
   ]
  },
  {
   "cell_type": "code",
   "execution_count": 31,
   "metadata": {},
   "outputs": [],
   "source": [
    "# get item rating, it's part of the attributes of the class, so I get the dictionary of attibutes\n",
    "#and access the rating by key\n",
    "item_rating = item.find('div', class_='css-1adflzz').attrs['aria-label']"
   ]
  },
  {
   "cell_type": "code",
   "execution_count": 76,
   "metadata": {},
   "outputs": [],
   "source": [
    "def extract_data(item):\n",
    "    \n",
    "    item_brand = item.find(attrs={'data-at':'sku_item_brand'}).text\n",
    "    item_name = item.find(attrs={'data-at': 'sku_item_name'}).text\n",
    "    item_price = item.find(attrs={'data-at': \"sku_item_price_list\" }).text\n",
    "        \n",
    "    try:\n",
    "        item_shades = item.find('div', class_=\"css-rrjz1n\").text\n",
    "        \n",
    "    except:\n",
    "        item_shades = ''\n",
    "        \n",
    "    item_rating = item.find('div', class_='css-1adflzz').attrs['aria-label']\n",
    "    row = dict(brand=item_brand,\n",
    "                  name=item_name,\n",
    "                  price = item_price,\n",
    "                  n_shades=item_shades,\n",
    "                  rating=item_rating)\n",
    "    return row\n",
    "    "
   ]
  },
  {
   "cell_type": "code",
   "execution_count": 77,
   "metadata": {},
   "outputs": [],
   "source": [
    "def process_item_block(soup):\n",
    "    item_blocks = soup.find_all('div', class_=\"css-12egk0t\")\n",
    "    rows = []\n",
    "    for item in item_blocks:\n",
    "        row = extract_data(item)\n",
    "        rows.append(row)\n",
    "        print(row)\n",
    "        \n",
    "    return rows"
   ]
  },
  {
   "cell_type": "code",
   "execution_count": 78,
   "metadata": {},
   "outputs": [
    {
     "name": "stdout",
     "output_type": "stream",
     "text": [
      "{'brand': 'NARS', 'name': 'Radiant Creamy Concealer', 'price': 'C$18.00 - C$37.00', 'n_shades': '58 more colors', 'rating': '4.5 stars'}\n",
      "{'brand': 'FENTY BEAUTY by Rihanna', 'name': 'Match Stix Matte Skinstick', 'price': 'C$33.00', 'n_shades': '19 more colors', 'rating': '4 stars'}\n",
      "{'brand': 'Too Faced', 'name': 'Born This Way Super Coverage Multi-Use Sculpting Concealer', 'price': 'C$17.50 - C$38.00', 'n_shades': '37 more colors', 'rating': '4.5 stars'}\n",
      "{'brand': 'FENTY BEAUTY by Rihanna', 'name': 'Match Stix Trio', 'price': 'C$69.00', 'n_shades': '3 more colors', 'rating': '4 stars'}\n",
      "{'brand': 'tarte', 'name': 'Creaseless Under Eye Concealer', 'price': 'C$13.00 - C$34.00', 'n_shades': '34 more colors', 'rating': '3 stars'}\n",
      "{'brand': 'FENTY BEAUTY by Rihanna', 'name': \"Pro Filt'r Instant Retouch Concealer\", 'price': 'C$35.00', 'n_shades': '49 more colors', 'rating': '4 stars'}\n",
      "{'brand': 'NARS', 'name': 'Soft Matte Complete Concealer', 'price': 'C$37.00', 'n_shades': '15 more colors', 'rating': '4.5 stars'}\n",
      "{'brand': 'IT Cosmetics', 'name': 'Bye Bye Under Eye Full Coverage Anti-Aging Waterproof Concealer', 'price': 'C$14.00 - C$35.00', 'n_shades': '49 more colors', 'rating': '4.5 stars'}\n",
      "{'brand': 'MAKE UP FOR EVER', 'name': 'Full Cover Concealer', 'price': 'C$45.00', 'n_shades': '10 more colors', 'rating': '4.5 stars'}\n",
      "{'brand': 'Yves Saint Laurent', 'name': 'Touche Eclat All-Over Brightening Pen', 'price': 'C$52.00', 'n_shades': '10 more colors', 'rating': '4.5 stars'}\n",
      "{'brand': 'Urban Decay', 'name': 'Naked Skin Weightless Complete Coverage Concealer', 'price': 'C$38.00', 'n_shades': '7 more colors', 'rating': '4 stars'}\n",
      "{'brand': 'BECCA', 'name': 'Under Eye Brightening Corrector', 'price': 'C$42.00', 'n_shades': '1 more color', 'rating': '4 stars'}\n",
      "{'brand': 'Laura Mercier', 'name': 'Flawless Fusion Ultra Longwear Concealer', 'price': 'C$36.00', 'n_shades': '11 more colors', 'rating': '4.5 stars'}\n",
      "{'brand': 'Kat Von D', 'name': 'Lock-It Concealer Crème', 'price': 'C$36.00', 'n_shades': '20 more colors', 'rating': '4.5 stars'}\n",
      "{'brand': 'Charlotte Tilbury', 'name': 'Magic Away Concealer', 'price': 'C$41.00', 'n_shades': '15 more colors', 'rating': '4 stars'}\n",
      "{'brand': 'rms beauty', 'name': 'Un Cover-Up Concealer/Foundation', 'price': 'C$45.00 - C$48.00', 'n_shades': '15 more colors', 'rating': '4 stars'}\n",
      "{'brand': 'HUDA BEAUTY', 'name': 'The Overachiever High Coverage Concealer', 'price': 'C$40.00', 'n_shades': '19 more colors', 'rating': '4 stars'}\n",
      "{'brand': 'tarte', 'name': 'Mini Creaseless Under Eye Concealer', 'price': 'C$13.00', 'n_shades': '4 more colors', 'rating': '3.5 stars'}\n",
      "{'brand': 'SEPHORA COLLECTION', 'name': 'Bright Future Gel Serum Concealer', 'price': 'C$18.50', 'n_shades': '19 more colors', 'rating': '4 stars'}\n",
      "{'brand': 'Bobbi Brown', 'name': 'Under Eye Corrector', 'price': 'C$39.00', 'n_shades': '8 more colors', 'rating': '4.5 stars'}\n",
      "{'brand': 'Yves Saint Laurent', 'name': 'Touche Eclat High Cover Radiant Concealer', 'price': 'C$52.00', 'n_shades': '13 more colors', 'rating': '4.5 stars'}\n",
      "{'brand': 'MAKE UP FOR EVER', 'name': 'Ultra HD Self-Setting Concealer', 'price': 'C$37.00', 'n_shades': '21 more colors', 'rating': '4.5 stars'}\n",
      "{'brand': 'COVER FX', 'name': 'Power Play Concealer', 'price': 'C$40.00', 'n_shades': '29 more colors', 'rating': '4.5 stars'}\n",
      "{'brand': 'Giorgio Armani Beauty', 'name': 'Power Fabric High Coverage Stretchable Concealer', 'price': 'C$47.00', 'n_shades': '11 more colors', 'rating': '4.5 stars'}\n",
      "{'brand': 'IT Cosmetics', 'name': 'Bye Bye Under Eye Illumination™ Full Coverage Anti-Aging Waterproof Concealer', 'price': 'C$32.00', 'n_shades': '5 more colors', 'rating': '4 stars'}\n",
      "{'brand': 'Benefit Cosmetics', 'name': 'Boi-ing Industrial Strength Concealer', 'price': 'C$30.00', 'n_shades': '5 more colors', 'rating': '4 stars'}\n",
      "{'brand': 'KEVYN AUCOIN', 'name': 'The Sensual Skin Enhancer Concealer', 'price': 'C$58.00 - C$63.00', 'n_shades': '15 more colors', 'rating': '4 stars'}\n",
      "{'brand': 'CLINIQUE', 'name': 'Beyond Perfecting Foundation + Concealer', 'price': 'C$39.00', 'n_shades': '39 more colors', 'rating': '3.5 stars'}\n",
      "{'brand': 'tarte', 'name': 'Amazonian Clay Waterproof 12-Hour Concealer', 'price': 'C$33.00', 'n_shades': '8 more colors', 'rating': '4 stars'}\n",
      "{'brand': 'bareMinerals', 'name': 'BAREPRO® 16-Hr Full Coverage Concealer', 'price': 'C$30.00', 'n_shades': '14 more colors', 'rating': '4.5 stars'}\n",
      "{'brand': 'tarte', 'name': 'Aquacealer Concealer - Sea Collection', 'price': 'C$34.00', 'n_shades': '11 more colors', 'rating': '4 stars'}\n",
      "{'brand': 'Jouer Cosmetics', 'name': 'Essential High Coverage Liquid Concealer', 'price': 'C$29.50', 'n_shades': '24 more colors', 'rating': '4 stars'}\n",
      "{'brand': 'bareMinerals', 'name': 'BARESKIN® Complete Coverage Serum Concealer', 'price': 'C$27.00', 'n_shades': '5 more colors', 'rating': '4 stars'}\n",
      "{'brand': 'Laura Mercier', 'name': 'Secret Concealer', 'price': 'C$34.00', 'n_shades': '11 more colors', 'rating': '4.5 stars'}\n",
      "{'brand': 'MILK MAKEUP', 'name': 'Flex Concealer', 'price': 'C$37.00', 'n_shades': '15 more colors', 'rating': '4 stars'}\n",
      "{'brand': 'First Aid Beauty', 'name': 'Eye Duty Triple Remedy: Brighten, Depuff and Smooth', 'price': 'C$48.00', 'n_shades': '', 'rating': '4 stars'}\n",
      "{'brand': 'Too Faced', 'name': 'Born This Way Naturally Radiant Concealer', 'price': 'C$15.00 - C$32.00', 'n_shades': '9 more colors', 'rating': '3.5 stars'}\n",
      "{'brand': 'tarte', 'name': 'Colored Clay CC Undereye Corrector', 'price': 'C$33.00', 'n_shades': '1 more color', 'rating': '4.5 stars'}\n",
      "{'brand': 'Estée Lauder', 'name': 'Double Wear Stay-In-Place Flawless Wear Concealer', 'price': 'C$37.00', 'n_shades': '9 more colors', 'rating': '4.5 stars'}\n",
      "{'brand': 'Bobbi Brown', 'name': 'Creamy Concealer Kit', 'price': 'C$52.00', 'n_shades': '8 more colors', 'rating': '3.5 stars'}\n",
      "{'brand': 'Smashbox', 'name': 'Studio Skin Flawless 24 Hour Concealer', 'price': 'C$32.00', 'n_shades': '29 more colors', 'rating': '4.5 stars'}\n",
      "{'brand': 'Benefit Cosmetics', 'name': 'Boi-ing Hydrating Concealer', 'price': 'C$30.00', 'n_shades': '5 more colors', 'rating': '4 stars'}\n",
      "{'brand': 'Dior', 'name': 'Diorskin Forever Undercover Concealer', 'price': 'C$45.00', 'n_shades': '9 more colors', 'rating': '4 stars'}\n",
      "{'brand': 'SEPHORA COLLECTION', 'name': 'Sephora + PANTONE UNIVERSE Correct + Conceal Palette', 'price': 'C$61.00', 'n_shades': '1 more color', 'rating': '4 stars'}\n",
      "{'brand': 'Josie Maran', 'name': 'Vibrancy Argan Oil Full Coverage Concealer Fluid', 'price': 'C$37.00', 'n_shades': '6 more colors', 'rating': '4 stars'}\n",
      "{'brand': 'Laura Mercier', 'name': 'Secret Camouflage', 'price': 'C$45.00', 'n_shades': '7 more colors', 'rating': '4 stars'}\n",
      "{'brand': 'Yves Saint Laurent', 'name': 'All Hours Concealer', 'price': 'C$46.00', 'n_shades': '5 more colors', 'rating': '4.5 stars'}\n",
      "{'brand': 'CLINIQUE', 'name': 'Line Smoothing Concealer', 'price': 'C$28.00', 'n_shades': '2 more colors', 'rating': '4 stars'}\n",
      "{'brand': 'Lancôme', 'name': 'Teint Idole Ultra Wear Camouflage Concealer', 'price': 'C$37.00 - C$41.00', 'n_shades': '15 more colors', 'rating': '4 stars'}\n",
      "{'brand': 'CLINIQUE', 'name': 'Beyond Perfecting Super Concealer Camouflage + 24-Hour Wear', 'price': 'C$28.00', 'n_shades': '17 more colors', 'rating': '4 stars'}\n",
      "{'brand': 'SEPHORA COLLECTION', 'name': 'Make No Mistake Foundation & Concealer Stick', 'price': 'C$26.50', 'n_shades': '15 more colors', 'rating': '4 stars'}\n",
      "{'brand': 'stila', 'name': 'Stay All Day Foundation + Concealer', 'price': 'C$52.00 - C$53.00', 'n_shades': '15 more colors', 'rating': '3.5 stars'}\n",
      "{'brand': 'Urban Decay', 'name': 'All Nighter Waterproof Full-Coverage Concealer', 'price': 'C$38.00', 'n_shades': '13 more colors', 'rating': '3.5 stars'}\n",
      "{'brand': 'Bobbi Brown', 'name': 'Instant Full Cover Concealer', 'price': 'C$41.00', 'n_shades': '11 more colors', 'rating': '3.5 stars'}\n",
      "{'brand': 'Marc Jacobs Beauty', 'name': 'Accomplice Concealer & Touch-Up Stick', 'price': 'C$42.00', 'n_shades': '16 more colors', 'rating': '4.5 stars'}\n",
      "{'brand': 'Bobbi Brown', 'name': 'Intensive Skin Serum Concealer', 'price': 'C$60.00', 'n_shades': '5 more colors', 'rating': '3.5 stars'}\n",
      "{'brand': 'BECCA', 'name': 'Aqua Luminous Perfecting Concealer', 'price': 'C$42.00', 'n_shades': '8 more colors', 'rating': '4 stars'}\n",
      "{'brand': 'First Aid Beauty', 'name': 'Hello FAB Bendy Avocado Concealer', 'price': 'C$29.00', 'n_shades': '10 more colors', 'rating': '4 stars'}\n",
      "{'brand': 'SEPHORA COLLECTION', 'name': 'Make No Mistake High Coverage Concealer', 'price': 'C$18.50', 'n_shades': '15 more colors', 'rating': '4 stars'}\n",
      "{'brand': 'Marc Jacobs Beauty', 'name': 'Remedy Concealer Pen', 'price': 'C$51.00', 'n_shades': '3 more colors', 'rating': '4 stars'}\n",
      "{'brand': 'CLINIQUE', 'name': 'Airbrush Concealer Illuminates, Perfects', 'price': 'C$30.00', 'n_shades': '1 more color', 'rating': '4 stars'}\n",
      "{'brand': 'Anastasia Beverly Hills', 'name': 'Pro Pencil', 'price': 'C$24.00', 'n_shades': '2 more colors', 'rating': '4 stars'}\n",
      "{'brand': 'Wander Beauty', 'name': 'Dualist Matte and Illuminating Concealer', 'price': 'C$34.80 - C$38.00', 'n_shades': '4 more colors', 'rating': '4 stars'}\n",
      "{'brand': 'TOM FORD', 'name': 'Emotionproof Concealer', 'price': 'C$75.00', 'n_shades': '11 more colors', 'rating': '4 stars'}\n",
      "{'brand': 'ILIA', 'name': 'True Skin Serum Concealer', 'price': 'C$39.00 - C$40.00', 'n_shades': '11 more colors', 'rating': '4 stars'}\n",
      "{'brand': 'NUDESTIX', 'name': 'Concealer Pencil', 'price': 'C$32.00', 'n_shades': '7 more colors', 'rating': '4 stars'}\n",
      "{'brand': 'IT Cosmetics', 'name': 'Bye Bye Breakout™ Full-Coverage Concealer', 'price': 'C$38.00', 'n_shades': '6 more colors', 'rating': '4 stars'}\n",
      "{'brand': 'CLINIQUE', 'name': 'Beyond Perfecting Powder Foundation + Concealer', 'price': 'C$39.00', 'n_shades': '13 more colors', 'rating': '3.5 stars'}\n",
      "{'brand': 'BECCA', 'name': 'Ultimate Coverage Longwear Concealer', 'price': 'C$38.00', 'n_shades': '15 more colors', 'rating': '4 stars'}\n",
      "{'brand': 'Kaja', 'name': \"Don't Settle Concealer\", 'price': 'C$24.00 - C$26.00', 'n_shades': '11 more colors', 'rating': '4.5 stars'}\n",
      "{'brand': 'Hourglass', 'name': 'Veil™ Retouching Fluid', 'price': 'C$45.00', 'n_shades': '5 more colors', 'rating': '4 stars'}\n",
      "{'brand': 'Giorgio Armani Beauty', 'name': 'High Precision Retouch', 'price': 'C$49.00', 'n_shades': '6 more colors', 'rating': '4.5 stars'}\n"
     ]
    },
    {
     "ename": "AttributeError",
     "evalue": "'NoneType' object has no attribute 'text'",
     "output_type": "error",
     "traceback": [
      "\u001b[0;31m---------------------------------------------------------------------------\u001b[0m",
      "\u001b[0;31mAttributeError\u001b[0m                            Traceback (most recent call last)",
      "\u001b[0;32m<ipython-input-78-b3a03727baa5>\u001b[0m in \u001b[0;36m<module>\u001b[0;34m\u001b[0m\n\u001b[1;32m      1\u001b[0m \u001b[0;31m#hay bases que no tienen shades porque son paletas, hay que agregar exception\u001b[0m\u001b[0;34m\u001b[0m\u001b[0;34m\u001b[0m\u001b[0;34m\u001b[0m\u001b[0m\n\u001b[1;32m      2\u001b[0m \u001b[0;31m#AttributeError: 'NoneType' object has no attribute 'text'\u001b[0m\u001b[0;34m\u001b[0m\u001b[0;34m\u001b[0m\u001b[0;34m\u001b[0m\u001b[0m\n\u001b[0;32m----> 3\u001b[0;31m \u001b[0mitem_data\u001b[0m \u001b[0;34m=\u001b[0m \u001b[0mprocess_item_block\u001b[0m\u001b[0;34m(\u001b[0m\u001b[0msoup\u001b[0m\u001b[0;34m)\u001b[0m\u001b[0;34m\u001b[0m\u001b[0;34m\u001b[0m\u001b[0m\n\u001b[0m",
      "\u001b[0;32m<ipython-input-77-7ba786b2dd08>\u001b[0m in \u001b[0;36mprocess_item_block\u001b[0;34m(soup)\u001b[0m\n\u001b[1;32m      3\u001b[0m     \u001b[0mrows\u001b[0m \u001b[0;34m=\u001b[0m \u001b[0;34m[\u001b[0m\u001b[0;34m]\u001b[0m\u001b[0;34m\u001b[0m\u001b[0;34m\u001b[0m\u001b[0m\n\u001b[1;32m      4\u001b[0m     \u001b[0;32mfor\u001b[0m \u001b[0mitem\u001b[0m \u001b[0;32min\u001b[0m \u001b[0mitem_blocks\u001b[0m\u001b[0;34m:\u001b[0m\u001b[0;34m\u001b[0m\u001b[0;34m\u001b[0m\u001b[0m\n\u001b[0;32m----> 5\u001b[0;31m         \u001b[0mrow\u001b[0m \u001b[0;34m=\u001b[0m \u001b[0mextract_data\u001b[0m\u001b[0;34m(\u001b[0m\u001b[0mitem\u001b[0m\u001b[0;34m)\u001b[0m\u001b[0;34m\u001b[0m\u001b[0;34m\u001b[0m\u001b[0m\n\u001b[0m\u001b[1;32m      6\u001b[0m         \u001b[0mrows\u001b[0m\u001b[0;34m.\u001b[0m\u001b[0mappend\u001b[0m\u001b[0;34m(\u001b[0m\u001b[0mrow\u001b[0m\u001b[0;34m)\u001b[0m\u001b[0;34m\u001b[0m\u001b[0;34m\u001b[0m\u001b[0m\n\u001b[1;32m      7\u001b[0m         \u001b[0mprint\u001b[0m\u001b[0;34m(\u001b[0m\u001b[0mrow\u001b[0m\u001b[0;34m)\u001b[0m\u001b[0;34m\u001b[0m\u001b[0;34m\u001b[0m\u001b[0m\n",
      "\u001b[0;32m<ipython-input-76-69e0e40fd2f1>\u001b[0m in \u001b[0;36mextract_data\u001b[0;34m(item)\u001b[0m\n\u001b[1;32m      1\u001b[0m \u001b[0;32mdef\u001b[0m \u001b[0mextract_data\u001b[0m\u001b[0;34m(\u001b[0m\u001b[0mitem\u001b[0m\u001b[0;34m)\u001b[0m\u001b[0;34m:\u001b[0m\u001b[0;34m\u001b[0m\u001b[0;34m\u001b[0m\u001b[0m\n\u001b[1;32m      2\u001b[0m \u001b[0;34m\u001b[0m\u001b[0m\n\u001b[0;32m----> 3\u001b[0;31m     \u001b[0mitem_brand\u001b[0m \u001b[0;34m=\u001b[0m \u001b[0mitem\u001b[0m\u001b[0;34m.\u001b[0m\u001b[0mfind\u001b[0m\u001b[0;34m(\u001b[0m\u001b[0mattrs\u001b[0m\u001b[0;34m=\u001b[0m\u001b[0;34m{\u001b[0m\u001b[0;34m'data-at'\u001b[0m\u001b[0;34m:\u001b[0m\u001b[0;34m'sku_item_brand'\u001b[0m\u001b[0;34m}\u001b[0m\u001b[0;34m)\u001b[0m\u001b[0;34m.\u001b[0m\u001b[0mtext\u001b[0m\u001b[0;34m\u001b[0m\u001b[0;34m\u001b[0m\u001b[0m\n\u001b[0m\u001b[1;32m      4\u001b[0m     \u001b[0mitem_name\u001b[0m \u001b[0;34m=\u001b[0m \u001b[0mitem\u001b[0m\u001b[0;34m.\u001b[0m\u001b[0mfind\u001b[0m\u001b[0;34m(\u001b[0m\u001b[0mattrs\u001b[0m\u001b[0;34m=\u001b[0m\u001b[0;34m{\u001b[0m\u001b[0;34m'data-at'\u001b[0m\u001b[0;34m:\u001b[0m \u001b[0;34m'sku_item_name'\u001b[0m\u001b[0;34m}\u001b[0m\u001b[0;34m)\u001b[0m\u001b[0;34m.\u001b[0m\u001b[0mtext\u001b[0m\u001b[0;34m\u001b[0m\u001b[0;34m\u001b[0m\u001b[0m\n\u001b[1;32m      5\u001b[0m     \u001b[0mitem_price\u001b[0m \u001b[0;34m=\u001b[0m \u001b[0mitem\u001b[0m\u001b[0;34m.\u001b[0m\u001b[0mfind\u001b[0m\u001b[0;34m(\u001b[0m\u001b[0mattrs\u001b[0m\u001b[0;34m=\u001b[0m\u001b[0;34m{\u001b[0m\u001b[0;34m'data-at'\u001b[0m\u001b[0;34m:\u001b[0m \u001b[0;34m\"sku_item_price_list\"\u001b[0m \u001b[0;34m}\u001b[0m\u001b[0;34m)\u001b[0m\u001b[0;34m.\u001b[0m\u001b[0mtext\u001b[0m\u001b[0;34m\u001b[0m\u001b[0;34m\u001b[0m\u001b[0m\n",
      "\u001b[0;31mAttributeError\u001b[0m: 'NoneType' object has no attribute 'text'"
     ]
    }
   ],
   "source": [
    "#hay bases que no tienen shades porque son paletas, hay que agregar exception\n",
    "#AttributeError: 'NoneType' object has no attribute 'text'\n",
    "item_data = process_item_block(soup)"
   ]
  },
  {
   "cell_type": "code",
   "execution_count": 66,
   "metadata": {},
   "outputs": [
    {
     "ename": "NameError",
     "evalue": "name 'item_data' is not defined",
     "output_type": "error",
     "traceback": [
      "\u001b[0;31m---------------------------------------------------------------------------\u001b[0m",
      "\u001b[0;31mNameError\u001b[0m                                 Traceback (most recent call last)",
      "\u001b[0;32m<ipython-input-66-e3a080f2085a>\u001b[0m in \u001b[0;36m<module>\u001b[0;34m\u001b[0m\n\u001b[0;32m----> 1\u001b[0;31m \u001b[0mlen\u001b[0m\u001b[0;34m(\u001b[0m\u001b[0mitem_data\u001b[0m\u001b[0;34m)\u001b[0m\u001b[0;34m\u001b[0m\u001b[0;34m\u001b[0m\u001b[0m\n\u001b[0m",
      "\u001b[0;31mNameError\u001b[0m: name 'item_data' is not defined"
     ]
    }
   ],
   "source": [
    "len(item_data)"
   ]
  },
  {
   "cell_type": "code",
   "execution_count": 66,
   "metadata": {},
   "outputs": [
    {
     "data": {
      "text/plain": [
       "dict"
      ]
     },
     "execution_count": 66,
     "metadata": {},
     "output_type": "execute_result"
    }
   ],
   "source": [
    "type(item_data[0])"
   ]
  },
  {
   "cell_type": "code",
   "execution_count": 68,
   "metadata": {},
   "outputs": [],
   "source": [
    "import csv\n",
    "\n",
    "with open('foundation_data.csv', mode='w', encoding='utf-8-sig') as csv_file:\n",
    "    fieldnames = ['brand', 'name', 'price', 'n_shades', 'rating']\n",
    "    writer = csv.DictWriter(csv_file, fieldnames=fieldnames)\n",
    "\n",
    "    writer.writeheader()\n",
    "    for item in item_data:\n",
    "        writer.writerow(item)\n",
    "    #writer.writerow({'emp_name': 'Erica Meyers', 'dept': 'IT', 'birth_month': 'March'})"
   ]
  },
  {
   "cell_type": "code",
   "execution_count": null,
   "metadata": {},
   "outputs": [],
   "source": []
  }
 ],
 "metadata": {
  "kernelspec": {
   "display_name": "Python 3",
   "language": "python",
   "name": "python3"
  },
  "language_info": {
   "codemirror_mode": {
    "name": "ipython",
    "version": 3
   },
   "file_extension": ".py",
   "mimetype": "text/x-python",
   "name": "python",
   "nbconvert_exporter": "python",
   "pygments_lexer": "ipython3",
   "version": "3.7.1"
  }
 },
 "nbformat": 4,
 "nbformat_minor": 2
}
